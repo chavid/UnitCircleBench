{
 "cells": [
  {
   "cell_type": "markdown",
   "metadata": {
    "slideshow": {
     "slide_type": "skip"
    }
   },
   "source": [
    "### With `-O0`"
   ]
  },
  {
   "cell_type": "code",
   "execution_count": 14,
   "metadata": {
    "slideshow": {
     "slide_type": "skip"
    },
    "vscode": {
     "languageId": "python"
    }
   },
   "outputs": [
    {
     "name": "stdout",
     "output_type": "stream",
     "text": [
      "0 -nan\n",
      "(main mean time: 0.572 s)\n"
     ]
    }
   ],
   "source": [
    "!./time.py c++23 O0 x10 main half 1024 10000"
   ]
  },
  {
   "cell_type": "code",
   "execution_count": 16,
   "metadata": {
    "vscode": {
     "languageId": "python"
    }
   },
   "outputs": [
    {
     "name": "stdout",
     "output_type": "stream",
     "text": [
      "1.00019518616282033 -0.119005833216005102\n",
      "(main mean time: 0.508 s)\n"
     ]
    }
   ],
   "source": [
    "!./time.py c++23 O0 x10 main float 1024 10000"
   ]
  },
  {
   "cell_type": "code",
   "execution_count": 8,
   "metadata": {
    "slideshow": {
     "slide_type": "skip"
    },
    "vscode": {
     "languageId": "python"
    }
   },
   "outputs": [
    {
     "name": "stdout",
     "output_type": "stream",
     "text": [
      "1.00000000001092559 -0.120400202952363668\n",
      "(main mean time: 0.51 s)\n"
     ]
    }
   ],
   "source": [
    "!./time.py c++23 O0 10 main double 1024 10000"
   ]
  },
  {
   "cell_type": "code",
   "execution_count": 9,
   "metadata": {
    "slideshow": {
     "slide_type": "skip"
    },
    "vscode": {
     "languageId": "python"
    }
   },
   "outputs": [
    {
     "name": "stdout",
     "output_type": "stream",
     "text": [
      "1.00000000000000007 -0.120400202947234851\n",
      "(main mean time: 0.552 s)\n"
     ]
    }
   ],
   "source": [
    "!./time.py c++23 O0 x10 main long 1024 10000"
   ]
  },
  {
   "cell_type": "code",
   "execution_count": 14,
   "metadata": {
    "slideshow": {
     "slide_type": "skip"
    },
    "vscode": {
     "languageId": "python"
    }
   },
   "outputs": [
    {
     "name": "stdout",
     "output_type": "stream",
     "text": [
      "1.00000000000000009 -0.120400202947234855\n",
      "(main mean time: 2.028 s)\n"
     ]
    }
   ],
   "source": [
    "!./time.py c++23 O0 x10 main quad 1024 10000"
   ]
  },
  {
   "cell_type": "markdown",
   "metadata": {
    "slideshow": {
     "slide_type": "skip"
    }
   },
   "source": [
    "### With `-O1`"
   ]
  },
  {
   "cell_type": "code",
   "execution_count": 15,
   "metadata": {
    "slideshow": {
     "slide_type": "skip"
    },
    "vscode": {
     "languageId": "python"
    }
   },
   "outputs": [
    {
     "name": "stdout",
     "output_type": "stream",
     "text": [
      "0 -nan\n",
      "(main mean time: 0.129 s)\n"
     ]
    }
   ],
   "source": [
    "!./time.py c++23 O1 x10 main half 1024 10000"
   ]
  },
  {
   "cell_type": "code",
   "execution_count": 16,
   "metadata": {
    "slideshow": {
     "slide_type": "skip"
    },
    "vscode": {
     "languageId": "python"
    }
   },
   "outputs": [
    {
     "name": "stdout",
     "output_type": "stream",
     "text": [
      "1.00019518616282033 -0.119005833216005102\n",
      "(main mean time: 0.026 s)\n"
     ]
    }
   ],
   "source": [
    "!./time.py c++23 O1 x10 main float 1024 10000"
   ]
  },
  {
   "cell_type": "code",
   "execution_count": 17,
   "metadata": {
    "slideshow": {
     "slide_type": "skip"
    },
    "vscode": {
     "languageId": "python"
    }
   },
   "outputs": [
    {
     "name": "stdout",
     "output_type": "stream",
     "text": [
      "1.00000000001092559 -0.120400202952363668\n",
      "(main mean time: 0.036 s)\n"
     ]
    }
   ],
   "source": [
    "!./time.py c++23 O1 x10 main double 1024 10000"
   ]
  },
  {
   "cell_type": "code",
   "execution_count": 18,
   "metadata": {
    "slideshow": {
     "slide_type": "skip"
    },
    "vscode": {
     "languageId": "python"
    }
   },
   "outputs": [
    {
     "name": "stdout",
     "output_type": "stream",
     "text": [
      "1.00000000000000007 -0.120400202947234851\n",
      "(main mean time: 0.07 s)\n"
     ]
    }
   ],
   "source": [
    "!./time.py c++23 O1 x10 main long 1024 10000"
   ]
  },
  {
   "cell_type": "code",
   "execution_count": 19,
   "metadata": {
    "slideshow": {
     "slide_type": "skip"
    },
    "vscode": {
     "languageId": "python"
    }
   },
   "outputs": [
    {
     "name": "stdout",
     "output_type": "stream",
     "text": [
      "1.00000000000000009 -0.120400202947234855\n",
      "(main mean time: 1.505 s)\n"
     ]
    }
   ],
   "source": [
    "!./time.py c++23 O1 x10 main quad 1024 10000"
   ]
  },
  {
   "cell_type": "markdown",
   "metadata": {
    "slideshow": {
     "slide_type": "skip"
    }
   },
   "source": [
    "### With `g++ -O2 ...`"
   ]
  },
  {
   "cell_type": "code",
   "execution_count": 23,
   "metadata": {
    "slideshow": {
     "slide_type": "skip"
    },
    "vscode": {
     "languageId": "python"
    }
   },
   "outputs": [
    {
     "name": "stdout",
     "output_type": "stream",
     "text": [
      "0 -nan\n",
      "(main mean time: 0.119 s)\n"
     ]
    }
   ],
   "source": [
    "!./time.py c++23 O2 x10 main half 1024 10000"
   ]
  },
  {
   "cell_type": "code",
   "execution_count": 24,
   "metadata": {
    "slideshow": {
     "slide_type": "skip"
    },
    "vscode": {
     "languageId": "python"
    }
   },
   "outputs": [
    {
     "name": "stdout",
     "output_type": "stream",
     "text": [
      "0.999907936388290109 -0.118844969709894901\n",
      "(main mean time: 0.023 s)\n"
     ]
    }
   ],
   "source": [
    "!./time.py c++23 O2 x10 main float 1024 10000"
   ]
  },
  {
   "cell_type": "code",
   "execution_count": 25,
   "metadata": {
    "slideshow": {
     "slide_type": "skip"
    },
    "vscode": {
     "languageId": "python"
    }
   },
   "outputs": [
    {
     "name": "stdout",
     "output_type": "stream",
     "text": [
      "1.00000000001088052 -0.120400202952449973\n",
      "(main mean time: 0.027 s)\n"
     ]
    }
   ],
   "source": [
    "!./time.py c++23 O2 x10 main double 1024 10000"
   ]
  },
  {
   "cell_type": "code",
   "execution_count": 26,
   "metadata": {
    "slideshow": {
     "slide_type": "skip"
    },
    "vscode": {
     "languageId": "python"
    }
   },
   "outputs": [
    {
     "name": "stdout",
     "output_type": "stream",
     "text": [
      "1.00000000000000007 -0.120400202947234851\n",
      "(main mean time: 0.071 s)\n"
     ]
    }
   ],
   "source": [
    "!./time.py c++23 O2 x10 main long 1024 10000"
   ]
  },
  {
   "cell_type": "code",
   "execution_count": 28,
   "metadata": {
    "slideshow": {
     "slide_type": "skip"
    },
    "vscode": {
     "languageId": "python"
    }
   },
   "outputs": [
    {
     "name": "stdout",
     "output_type": "stream",
     "text": [
      "1.00000000000000009 -0.120400202947234855\n",
      "(main mean time: 1.479 s)\n"
     ]
    }
   ],
   "source": [
    "!./time.py c++23 O2 x10 main quad 1024 10000"
   ]
  },
  {
   "cell_type": "markdown",
   "metadata": {
    "slideshow": {
     "slide_type": "skip"
    }
   },
   "source": [
    "### With `-O3`"
   ]
  },
  {
   "cell_type": "code",
   "execution_count": 29,
   "metadata": {
    "slideshow": {
     "slide_type": "skip"
    },
    "vscode": {
     "languageId": "python"
    }
   },
   "outputs": [
    {
     "name": "stdout",
     "output_type": "stream",
     "text": [
      "-nan -nan\n",
      "(main mean time: 1.1 s)\n"
     ]
    }
   ],
   "source": [
    "!./time.py c++23 O3 x10 main half 1024 100000"
   ]
  },
  {
   "cell_type": "code",
   "execution_count": 30,
   "metadata": {
    "slideshow": {
     "slide_type": "skip"
    },
    "vscode": {
     "languageId": "python"
    }
   },
   "outputs": [
    {
     "name": "stdout",
     "output_type": "stream",
     "text": [
      "0.999353915356530604 -1.18886689078987931\n",
      "(main mean time: 0.068 s)\n"
     ]
    }
   ],
   "source": [
    "!./time.py c++23 O3 x10 main float 1024 100000"
   ]
  },
  {
   "cell_type": "code",
   "execution_count": 31,
   "metadata": {
    "slideshow": {
     "slide_type": "skip"
    },
    "vscode": {
     "languageId": "python"
    }
   },
   "outputs": [
    {
     "name": "stdout",
     "output_type": "stream",
     "text": [
      "1.00000000010806178 -1.20400202952556875\n",
      "(main mean time: 0.163 s)\n"
     ]
    }
   ],
   "source": [
    "!./time.py c++23 O3 x10 main double 1024 100000"
   ]
  },
  {
   "cell_type": "code",
   "execution_count": 32,
   "metadata": {
    "slideshow": {
     "slide_type": "skip"
    },
    "vscode": {
     "languageId": "python"
    }
   },
   "outputs": [
    {
     "name": "stdout",
     "output_type": "stream",
     "text": [
      "1.00000000000000096 -1.20400202947234884\n",
      "(main mean time: 0.709 s)\n"
     ]
    }
   ],
   "source": [
    "!./time.py c++23 O3 x10 main long 1024 100000"
   ]
  },
  {
   "cell_type": "code",
   "execution_count": 33,
   "metadata": {
    "slideshow": {
     "slide_type": "skip"
    },
    "vscode": {
     "languageId": "python"
    }
   },
   "outputs": [
    {
     "name": "stdout",
     "output_type": "stream",
     "text": [
      "1.0000000000000009 -1.20400202947234855\n",
      "(main mean time: 14.018 s)\n"
     ]
    }
   ],
   "source": [
    "!./time.py c++23 O3 x10 main quad 1024 100000"
   ]
  },
  {
   "cell_type": "markdown",
   "metadata": {
    "slideshow": {
     "slide_type": "skip"
    }
   },
   "source": [
    "### With `-Ofast`\n"
   ]
  },
  {
   "cell_type": "code",
   "execution_count": 35,
   "metadata": {
    "slideshow": {
     "slide_type": "skip"
    },
    "vscode": {
     "languageId": "python"
    }
   },
   "outputs": [
    {
     "name": "stdout",
     "output_type": "stream",
     "text": [
      "-nan -nan\n",
      "(main mean time: 1.14 s)\n"
     ]
    }
   ],
   "source": [
    "!./time.py c++23 Ofast x10 main half 1024 100000"
   ]
  },
  {
   "cell_type": "code",
   "execution_count": 36,
   "metadata": {
    "slideshow": {
     "slide_type": "skip"
    },
    "vscode": {
     "languageId": "python"
    }
   },
   "outputs": [
    {
     "name": "stdout",
     "output_type": "stream",
     "text": [
      "0.999353915356530604 -1.18886689078987931\n",
      "(main mean time: 0.067 s)\n"
     ]
    }
   ],
   "source": [
    "!./time.py c++23 Ofast x10 main float 1024 100000"
   ]
  },
  {
   "cell_type": "code",
   "execution_count": 37,
   "metadata": {
    "slideshow": {
     "slide_type": "skip"
    },
    "vscode": {
     "languageId": "python"
    }
   },
   "outputs": [
    {
     "name": "stdout",
     "output_type": "stream",
     "text": [
      "1.00000000010791479 -1.20400202952694466\n",
      "(main mean time: 0.161 s)\n"
     ]
    }
   ],
   "source": [
    "!./time.py c++23 Ofast x10 main double 1024 100000"
   ]
  },
  {
   "cell_type": "code",
   "execution_count": 38,
   "metadata": {
    "slideshow": {
     "slide_type": "skip"
    },
    "vscode": {
     "languageId": "python"
    }
   },
   "outputs": [
    {
     "name": "stdout",
     "output_type": "stream",
     "text": [
      "1.00000000000003801 -1.20400202948153585\n",
      "(main mean time: 0.737 s)\n"
     ]
    }
   ],
   "source": [
    "!./time.py c++23 Ofast x10 main long 1024 100000"
   ]
  },
  {
   "cell_type": "code",
   "execution_count": null,
   "metadata": {
    "slideshow": {
     "slide_type": "skip"
    },
    "vscode": {
     "languageId": "python"
    }
   },
   "outputs": [],
   "source": [
    "!./time.py c++23 Ofast x10 main quad 1024 100000"
   ]
  },
  {
   "cell_type": "markdown",
   "metadata": {
    "slideshow": {
     "slide_type": "skip"
    }
   },
   "source": [
    "© *CNRS 2024*  \n",
    "*This document was created by David Chamont. It is available under the [License Creative Commons - Attribution - No commercial use - Shared under the conditions 4.0 International](http://creativecommons.org/licenses/by-nc-sa/4.0/)*"
   ]
  }
 ],
 "metadata": {
  "celltoolbar": "Diaporama",
  "kernelspec": {
   "display_name": "C++17",
   "language": "C++17",
   "name": "xcpp17"
  },
  "language_info": {
   "codemirror_mode": "text/x-c++src",
   "file_extension": ".cpp",
   "mimetype": "text/x-c++src",
   "name": "c++",
   "version": "17"
  }
 },
 "nbformat": 4,
 "nbformat_minor": 4
}
