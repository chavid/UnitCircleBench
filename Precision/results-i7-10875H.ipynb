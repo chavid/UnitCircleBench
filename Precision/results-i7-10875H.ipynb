{
 "cells": [
  {
   "cell_type": "markdown",
   "metadata": {
    "slideshow": {
     "slide_type": "skip"
    }
   },
   "source": [
    "## Results on i7-10875H"
   ]
  },
  {
   "cell_type": "markdown",
   "metadata": {
    "slideshow": {
     "slide_type": "skip"
    }
   },
   "source": [
    "### With `g++ -O0 ...`\n",
    "\n",
    "| Type   | time (s) | significant digits |\n",
    "| :------| -------: | -----------------: |\n",
    "| half   |    0.545 |                  0 |\n",
    "| float  |    0.481 |                  4 |\n",
    "| double |    0.483 |                 11 |\n",
    "| long   |    0.509 |                 17 |\n",
    "| quad   |    1.819 |                 17 |\n"
   ]
  },
  {
   "cell_type": "markdown",
   "metadata": {
    "slideshow": {
     "slide_type": "skip"
    }
   },
   "source": [
    "#### With `g++ -O1 ...`\n",
    "\n",
    "| Type   | time (s) | significant digits |\n",
    "| :------| -------: | -----------------: |\n",
    "| half   |    0.094 |                  0 |\n",
    "| float  |    0.018 |                  4 |\n",
    "| double |    0.020 |                 11 |\n",
    "| long   |    0.066 |                 18 |\n",
    "| quad   |    1.224 |                 18 |"
   ]
  },
  {
   "cell_type": "markdown",
   "metadata": {
    "slideshow": {
     "slide_type": "skip"
    }
   },
   "source": [
    "#### With `g++ -O2 ...`\n",
    "\n",
    "| Type   | time (s) | significant digits |\n",
    "| :------| -------: | -----------------: |\n",
    "| half   |    0.094 |                  0 |\n",
    "| float  |    0.010 |                  4 |\n",
    "| double |    0.019 |                 11 |\n",
    "| long   |    0.061 |                 18 |\n",
    "| quad   |    1.273 |                 18 |"
   ]
  },
  {
   "cell_type": "markdown",
   "metadata": {
    "slideshow": {
     "slide_type": "skip"
    }
   },
   "source": [
    "#### With `g++ -O3 ...`\n",
    "\n",
    "| Type   | time (s) | significant digits |\n",
    "| :------| -------: | -----------------: |\n",
    "| half   |    0.959 |                nan |\n",
    "| float  |    0.053 |                  3 |\n",
    "| double |    0.141 |                 10 |\n",
    "| long   |    0.622 |                 16 |\n",
    "| quad   |   12.73  |                 16 |\n"
   ]
  },
  {
   "cell_type": "markdown",
   "metadata": {
    "slideshow": {
     "slide_type": "skip"
    }
   },
   "source": [
    "#### With `g++ -Ofast ...`\n",
    "\n",
    "| Type   | time (s) | significant digits |\n",
    "| :------| -------: | -----------------: |\n",
    "| half   |    0.95  |                nan |\n",
    "| float  |    0.054 |                  3 |\n",
    "| double |    0.122 |                 10 |\n",
    "| long   |    0.668 |                 14 |\n",
    "| quad   |   12.17  |                 14 |\n"
   ]
  },
  {
   "cell_type": "markdown",
   "metadata": {
    "slideshow": {
     "slide_type": "skip"
    }
   },
   "source": [
    "© *CNRS 2024*  \n",
    "*This document was created by David Chamont. It is available under the [License Creative Commons - Attribution - No commercial use - Shared under the conditions 4.0 International](http://creativecommons.org/licenses/by-nc-sa/4.0/)*"
   ]
  }
 ],
 "metadata": {
  "celltoolbar": "Diaporama",
  "kernelspec": {
   "display_name": "C++17",
   "language": "C++17",
   "name": "xcpp17"
  },
  "language_info": {
   "codemirror_mode": "text/x-c++src",
   "file_extension": ".cpp",
   "mimetype": "text/x-c++src",
   "name": "c++",
   "version": "17"
  }
 },
 "nbformat": 4,
 "nbformat_minor": 4
}
