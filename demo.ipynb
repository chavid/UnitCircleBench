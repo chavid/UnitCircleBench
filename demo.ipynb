{
 "cells": [
  {
   "cell_type": "markdown",
   "metadata": {
    "slideshow": {
     "slide_type": "skip"
    }
   },
   "source": [
    "### With `-O0`"
   ]
  },
  {
   "cell_type": "code",
   "execution_count": 282,
   "metadata": {
    "slideshow": {
     "slide_type": "skip"
    },
    "vscode": {
     "languageId": "python"
    }
   },
   "outputs": [
    {
     "name": "stdout",
     "output_type": "stream",
     "text": [
      "\n",
      "0 -nan\n",
      "0.556 s. 3942.8 kB.\n",
      "\n"
     ]
    }
   ],
   "source": [
    "! bash -l tmp.precision.sh 0 half 1024 10000"
   ]
  },
  {
   "cell_type": "code",
   "execution_count": 272,
   "metadata": {
    "vscode": {
     "languageId": "python"
    }
   },
   "outputs": [
    {
     "name": "stdout",
     "output_type": "stream",
     "text": [
      "\n",
      "1.00019518616282033 -0.119005833216005102\n",
      "0.481 s. 3918.0 kB.\n",
      "\n"
     ]
    }
   ],
   "source": [
    "! bash -l tmp.precision.sh 0 float 1024 10000"
   ]
  },
  {
   "cell_type": "code",
   "execution_count": 273,
   "metadata": {
    "slideshow": {
     "slide_type": "skip"
    },
    "vscode": {
     "languageId": "python"
    }
   },
   "outputs": [
    {
     "name": "stdout",
     "output_type": "stream",
     "text": [
      "\n",
      "1.00000000001092559 -0.120400202952363668\n",
      "0.528 s. 3946.8 kB.\n",
      "\n"
     ]
    }
   ],
   "source": [
    "! bash -l tmp.precision.sh 0 double 1024 10000"
   ]
  },
  {
   "cell_type": "code",
   "execution_count": 274,
   "metadata": {
    "slideshow": {
     "slide_type": "skip"
    },
    "vscode": {
     "languageId": "python"
    }
   },
   "outputs": [
    {
     "name": "stdout",
     "output_type": "stream",
     "text": [
      "\n",
      "1.00000000000000007 -0.120400202947234851\n",
      "0.511 s. 4021.6 kB.\n",
      "\n"
     ]
    }
   ],
   "source": [
    "! bash -l tmp.precision.sh 0 long 1024 10000"
   ]
  },
  {
   "cell_type": "code",
   "execution_count": 275,
   "metadata": {
    "slideshow": {
     "slide_type": "skip"
    },
    "vscode": {
     "languageId": "python"
    }
   },
   "outputs": [
    {
     "name": "stdout",
     "output_type": "stream",
     "text": [
      "\n",
      "1.00000000000000009 -0.120400202947234855\n",
      "1.897 s. 4057.6 kB.\n",
      "\n"
     ]
    }
   ],
   "source": [
    "! bash -l tmp.precision.sh 0 quad 1024 10000"
   ]
  },
  {
   "cell_type": "markdown",
   "metadata": {
    "slideshow": {
     "slide_type": "skip"
    }
   },
   "source": [
    "### With `-O1`"
   ]
  },
  {
   "cell_type": "code",
   "execution_count": 276,
   "metadata": {
    "slideshow": {
     "slide_type": "skip"
    },
    "vscode": {
     "languageId": "python"
    }
   },
   "outputs": [
    {
     "name": "stdout",
     "output_type": "stream",
     "text": [
      "\n",
      "0 -nan\n",
      "0.099 s. 3901.2 kB.\n",
      "\n"
     ]
    }
   ],
   "source": [
    "! bash -l tmp.precision.sh 1 half 1024 10000"
   ]
  },
  {
   "cell_type": "code",
   "execution_count": 277,
   "metadata": {
    "slideshow": {
     "slide_type": "skip"
    },
    "vscode": {
     "languageId": "python"
    }
   },
   "outputs": [
    {
     "name": "stdout",
     "output_type": "stream",
     "text": [
      "\n",
      "1.00019518616282033 -0.119005833216005102\n",
      "0.018 s. 3929.2 kB.\n",
      "\n"
     ]
    }
   ],
   "source": [
    "! bash -l tmp.precision.sh 1 float 1024 10000"
   ]
  },
  {
   "cell_type": "code",
   "execution_count": 278,
   "metadata": {
    "slideshow": {
     "slide_type": "skip"
    },
    "vscode": {
     "languageId": "python"
    }
   },
   "outputs": [
    {
     "name": "stdout",
     "output_type": "stream",
     "text": [
      "\n",
      "1.00000000001092559 -0.120400202952363668\n",
      "0.021 s. 3933.6 kB.\n",
      "\n"
     ]
    }
   ],
   "source": [
    "! bash -l tmp.precision.sh 1 double 1024 10000"
   ]
  },
  {
   "cell_type": "code",
   "execution_count": 279,
   "metadata": {
    "slideshow": {
     "slide_type": "skip"
    },
    "vscode": {
     "languageId": "python"
    }
   },
   "outputs": [
    {
     "name": "stdout",
     "output_type": "stream",
     "text": [
      "\n",
      "1.00000000000000007 -0.120400202947234851\n",
      "0.056 s. 4000.4 kB.\n",
      "\n"
     ]
    }
   ],
   "source": [
    "! bash -l tmp.precision.sh 1 long 1024 10000"
   ]
  },
  {
   "cell_type": "code",
   "execution_count": 280,
   "metadata": {
    "slideshow": {
     "slide_type": "skip"
    },
    "vscode": {
     "languageId": "python"
    }
   },
   "outputs": [
    {
     "name": "stdout",
     "output_type": "stream",
     "text": [
      "\n",
      "1.00000000000000009 -0.120400202947234855\n",
      "1.351 s. 4006.0 kB.\n",
      "\n"
     ]
    }
   ],
   "source": [
    "! bash -l tmp.precision.sh 1 quad 1024 10000"
   ]
  },
  {
   "cell_type": "markdown",
   "metadata": {
    "slideshow": {
     "slide_type": "skip"
    }
   },
   "source": [
    "### With `g++ -O2 ...`"
   ]
  },
  {
   "cell_type": "code",
   "execution_count": 239,
   "metadata": {
    "slideshow": {
     "slide_type": "skip"
    },
    "vscode": {
     "languageId": "python"
    }
   },
   "outputs": [
    {
     "name": "stdout",
     "output_type": "stream",
     "text": [
      "\n",
      "0\n",
      "0.094 s. 3948.8 kB.\n",
      "\n"
     ]
    }
   ],
   "source": [
    "! bash -l tmp.precision.sh 2 half 1024 10000"
   ]
  },
  {
   "cell_type": "code",
   "execution_count": 247,
   "metadata": {
    "slideshow": {
     "slide_type": "skip"
    },
    "vscode": {
     "languageId": "python"
    }
   },
   "outputs": [
    {
     "name": "stdout",
     "output_type": "stream",
     "text": [
      "\n",
      "0.999907936388290119\n",
      "0.01 s. 3956.4 kB.\n",
      "\n"
     ]
    }
   ],
   "source": [
    "! bash -l tmp.precision.sh 2 float 1024 10000"
   ]
  },
  {
   "cell_type": "code",
   "execution_count": 241,
   "metadata": {
    "slideshow": {
     "slide_type": "skip"
    },
    "vscode": {
     "languageId": "python"
    }
   },
   "outputs": [
    {
     "name": "stdout",
     "output_type": "stream",
     "text": [
      "\n",
      "1.00000000001088041\n",
      "0.019 s. 3919.2 kB.\n",
      "\n"
     ]
    }
   ],
   "source": [
    "! bash -l tmp.precision.sh 2 double 1024 10000"
   ]
  },
  {
   "cell_type": "code",
   "execution_count": 242,
   "metadata": {
    "slideshow": {
     "slide_type": "skip"
    },
    "vscode": {
     "languageId": "python"
    }
   },
   "outputs": [
    {
     "name": "stdout",
     "output_type": "stream",
     "text": [
      "\n",
      "1\n",
      "0.061 s. 4012.8 kB.\n",
      "\n"
     ]
    }
   ],
   "source": [
    "! bash -l tmp.precision.sh 2 long 1024 10000"
   ]
  },
  {
   "cell_type": "code",
   "execution_count": 243,
   "metadata": {
    "slideshow": {
     "slide_type": "skip"
    },
    "vscode": {
     "languageId": "python"
    }
   },
   "outputs": [
    {
     "name": "stdout",
     "output_type": "stream",
     "text": [
      "\n",
      "1\n",
      "1.273 s. 4050.0 kB.\n",
      "\n"
     ]
    }
   ],
   "source": [
    "! bash -l tmp.precision.sh 2 quad 1024 10000"
   ]
  },
  {
   "cell_type": "markdown",
   "metadata": {
    "slideshow": {
     "slide_type": "skip"
    }
   },
   "source": [
    "### With `-O3`"
   ]
  },
  {
   "cell_type": "code",
   "execution_count": 252,
   "metadata": {
    "slideshow": {
     "slide_type": "skip"
    },
    "vscode": {
     "languageId": "python"
    }
   },
   "outputs": [
    {
     "name": "stdout",
     "output_type": "stream",
     "text": [
      "\n",
      "-nan\n",
      "0.977 s. 3902.4 kB.\n",
      "\n"
     ]
    }
   ],
   "source": [
    "! bash -l tmp.precision.sh 3 half 1024 100000"
   ]
  },
  {
   "cell_type": "code",
   "execution_count": 253,
   "metadata": {
    "slideshow": {
     "slide_type": "skip"
    },
    "vscode": {
     "languageId": "python"
    }
   },
   "outputs": [
    {
     "name": "stdout",
     "output_type": "stream",
     "text": [
      "\n",
      "0.99935391535653062\n",
      "0.053 s. 3882.8 kB.\n",
      "\n"
     ]
    }
   ],
   "source": [
    "! bash -l tmp.precision.sh 3 float 1024 100000"
   ]
  },
  {
   "cell_type": "code",
   "execution_count": 254,
   "metadata": {
    "slideshow": {
     "slide_type": "skip"
    },
    "vscode": {
     "languageId": "python"
    }
   },
   "outputs": [
    {
     "name": "stdout",
     "output_type": "stream",
     "text": [
      "\n",
      "1.00000000010806178\n",
      "0.141 s. 3970.8 kB.\n",
      "\n"
     ]
    }
   ],
   "source": [
    "! bash -l tmp.precision.sh 3 double 1024 100000"
   ]
  },
  {
   "cell_type": "code",
   "execution_count": 255,
   "metadata": {
    "slideshow": {
     "slide_type": "skip"
    },
    "vscode": {
     "languageId": "python"
    }
   },
   "outputs": [
    {
     "name": "stdout",
     "output_type": "stream",
     "text": [
      "\n",
      "1.00000000000000089\n",
      "0.622 s. 3996.4 kB.\n",
      "\n"
     ]
    }
   ],
   "source": [
    "! bash -l tmp.precision.sh 3 long 1024 100000"
   ]
  },
  {
   "cell_type": "code",
   "execution_count": 256,
   "metadata": {
    "slideshow": {
     "slide_type": "skip"
    },
    "vscode": {
     "languageId": "python"
    }
   },
   "outputs": [
    {
     "name": "stdout",
     "output_type": "stream",
     "text": [
      "\n",
      "1.00000000000000089\n",
      "12.73 s. 3976.8 kB.\n",
      "\n"
     ]
    }
   ],
   "source": [
    "! bash -l tmp.precision.sh 3 quad 1024 100000"
   ]
  },
  {
   "cell_type": "markdown",
   "metadata": {
    "slideshow": {
     "slide_type": "skip"
    }
   },
   "source": [
    "### With `-Ofast`\n"
   ]
  },
  {
   "cell_type": "code",
   "execution_count": 257,
   "metadata": {
    "slideshow": {
     "slide_type": "skip"
    },
    "vscode": {
     "languageId": "python"
    }
   },
   "outputs": [
    {
     "name": "stdout",
     "output_type": "stream",
     "text": [
      "\n",
      "-nan\n",
      "0.95 s. 3620.0 kB.\n",
      "\n"
     ]
    }
   ],
   "source": [
    "! bash -l tmp.precision.sh fast half 1024 100000"
   ]
  },
  {
   "cell_type": "code",
   "execution_count": 258,
   "metadata": {
    "slideshow": {
     "slide_type": "skip"
    },
    "vscode": {
     "languageId": "python"
    }
   },
   "outputs": [
    {
     "name": "stdout",
     "output_type": "stream",
     "text": [
      "\n",
      "0.99935391535653062\n",
      "0.054 s. 3684.0 kB.\n",
      "\n"
     ]
    }
   ],
   "source": [
    "! bash -l tmp.precision.sh fast float 1024 100000"
   ]
  },
  {
   "cell_type": "code",
   "execution_count": 259,
   "metadata": {
    "slideshow": {
     "slide_type": "skip"
    },
    "vscode": {
     "languageId": "python"
    }
   },
   "outputs": [
    {
     "name": "stdout",
     "output_type": "stream",
     "text": [
      "\n",
      "1.00000000010791479\n",
      "0.122 s. 3713.6 kB.\n",
      "\n"
     ]
    }
   ],
   "source": [
    "! bash -l tmp.precision.sh fast double 1024 100000"
   ]
  },
  {
   "cell_type": "code",
   "execution_count": 260,
   "metadata": {
    "slideshow": {
     "slide_type": "skip"
    },
    "vscode": {
     "languageId": "python"
    }
   },
   "outputs": [
    {
     "name": "stdout",
     "output_type": "stream",
     "text": [
      "\n",
      "1.00000000000003797\n",
      "0.668 s. 3788.4 kB.\n",
      "\n"
     ]
    }
   ],
   "source": [
    "! bash -l tmp.precision.sh fast long 1024 100000"
   ]
  },
  {
   "cell_type": "code",
   "execution_count": 262,
   "metadata": {
    "slideshow": {
     "slide_type": "skip"
    },
    "vscode": {
     "languageId": "python"
    }
   },
   "outputs": [
    {
     "name": "stdout",
     "output_type": "stream",
     "text": [
      "\n",
      "1.00000000000003819\n",
      "12.17 s. 3807.2 kB.\n",
      "\n"
     ]
    }
   ],
   "source": [
    "! bash -l tmp.precision.sh fast quad 1024 100000"
   ]
  },
  {
   "cell_type": "markdown",
   "metadata": {
    "slideshow": {
     "slide_type": "skip"
    }
   },
   "source": [
    "© *CNRS 2024*  \n",
    "*This document was created by David Chamont. It is available under the [License Creative Commons - Attribution - No commercial use - Shared under the conditions 4.0 International](http://creativecommons.org/licenses/by-nc-sa/4.0/)*"
   ]
  }
 ],
 "metadata": {
  "celltoolbar": "Diaporama",
  "kernelspec": {
   "display_name": "C++17",
   "language": "C++17",
   "name": "xcpp17"
  },
  "language_info": {
   "codemirror_mode": "text/x-c++src",
   "file_extension": ".cpp",
   "mimetype": "text/x-c++src",
   "name": "c++",
   "version": "17"
  }
 },
 "nbformat": 4,
 "nbformat_minor": 4
}
